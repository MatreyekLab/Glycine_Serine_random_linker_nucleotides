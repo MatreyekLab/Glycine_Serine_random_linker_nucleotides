{
 "cells": [
  {
   "cell_type": "code",
   "execution_count": 1,
   "metadata": {},
   "outputs": [],
   "source": [
    "from random import randint\n",
    "#randint(0,9)"
   ]
  },
  {
   "cell_type": "code",
   "execution_count": 2,
   "metadata": {},
   "outputs": [],
   "source": [
    "codons = [\"GGU\",\"GGC\",\"GGA\",\"GGG\",\"TCT\",\"TCC\",\"TCA\",\"TCG\",\"AGT\",\"AGC\"]"
   ]
  },
  {
   "cell_type": "code",
   "execution_count": 7,
   "metadata": {},
   "outputs": [
    {
     "name": "stdout",
     "output_type": "stream",
     "text": [
      "What amino acid length flexible linker would you like a nucleotide sequence for?5\n"
     ]
    }
   ],
   "source": [
    "length = input(\"What amino acid length flexible linker would you like a nucleotide sequence for?\")"
   ]
  },
  {
   "cell_type": "code",
   "execution_count": 8,
   "metadata": {},
   "outputs": [],
   "source": [
    "linker_sequence = \"\"\n",
    "length = int(length)\n",
    "for x in range(0,length):\n",
    "    new_codon = codons[randint(0,9)]\n",
    "    linker_sequence = linker_sequence + new_codon\n",
    "    x = x + 1"
   ]
  },
  {
   "cell_type": "code",
   "execution_count": 9,
   "metadata": {},
   "outputs": [
    {
     "name": "stdout",
     "output_type": "stream",
     "text": [
      "TCTAGTTCAGGCTCT\n"
     ]
    }
   ],
   "source": [
    "print(linker_sequence)"
   ]
  }
 ],
 "metadata": {
  "kernelspec": {
   "display_name": "Python 3",
   "language": "python",
   "name": "python3"
  },
  "language_info": {
   "codemirror_mode": {
    "name": "ipython",
    "version": 3
   },
   "file_extension": ".py",
   "mimetype": "text/x-python",
   "name": "python",
   "nbconvert_exporter": "python",
   "pygments_lexer": "ipython3",
   "version": "3.7.4"
  }
 },
 "nbformat": 4,
 "nbformat_minor": 2
}
